{
 "cells": [
  {
   "cell_type": "code",
   "execution_count": 2,
   "metadata": {},
   "outputs": [
    {
     "name": "stdout",
     "output_type": "stream",
     "text": [
      "A:\\Adi\\coding ninja\\Practice codes\\2048 Game\n",
      "C:\\Users\\BARKATE\\anaconda3\\python38.zip\n",
      "C:\\Users\\BARKATE\\anaconda3\\DLLs\n",
      "C:\\Users\\BARKATE\\anaconda3\\lib\n",
      "C:\\Users\\BARKATE\\anaconda3\n",
      "\n",
      "C:\\Users\\BARKATE\\anaconda3\\lib\\site-packages\n",
      "C:\\Users\\BARKATE\\anaconda3\\lib\\site-packages\\win32\n",
      "C:\\Users\\BARKATE\\anaconda3\\lib\\site-packages\\win32\\lib\n",
      "C:\\Users\\BARKATE\\anaconda3\\lib\\site-packages\\Pythonwin\n",
      "C:\\Users\\BARKATE\\anaconda3\\lib\\site-packages\\IPython\\extensions\n",
      "C:\\Users\\BARKATE\\.ipython\n"
     ]
    }
   ],
   "source": [
    "import sys\n",
    "for p in sys.path:\n",
    "    print(p)"
   ]
  },
  {
   "cell_type": "code",
   "execution_count": 3,
   "metadata": {},
   "outputs": [
    {
     "data": {
      "text/plain": [
       "'C:\\\\Users\\\\BARKATE\\\\anaconda3'"
      ]
     },
     "execution_count": 3,
     "metadata": {},
     "output_type": "execute_result"
    }
   ],
   "source": [
    "import os\n",
    "import sys\n",
    "os.path.dirname(sys.executable)"
   ]
  },
  {
   "cell_type": "code",
   "execution_count": null,
   "metadata": {},
   "outputs": [],
   "source": []
  }
 ],
 "metadata": {
  "kernelspec": {
   "display_name": "Python 3",
   "language": "python",
   "name": "python3"
  },
  "language_info": {
   "codemirror_mode": {
    "name": "ipython",
    "version": 3
   },
   "file_extension": ".py",
   "mimetype": "text/x-python",
   "name": "python",
   "nbconvert_exporter": "python",
   "pygments_lexer": "ipython3",
   "version": "3.8.5"
  }
 },
 "nbformat": 4,
 "nbformat_minor": 4
}
