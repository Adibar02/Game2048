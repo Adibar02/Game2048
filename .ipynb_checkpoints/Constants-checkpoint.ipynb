{
 "cells": [
  {
   "cell_type": "code",
   "execution_count": null,
   "metadata": {},
   "outputs": [],
   "source": [
    "size = 400\n",
    "grid_len = 4\n",
    "grid_padding = 10\n",
    "\n",
    "background_color_game = \"#92877d\"\n",
    "background_color_empty_cell = \"#9e948a\"\n",
    "\n",
    "backgroud_color_dict = {2:\"#eee4da\", 4:\"#ede0c8\", 8 :\"#f2b179\",\n",
    "                       16 : \"#f59563\", 32:\"#f67c5f\", 64:\"#f65e3b\",\n",
    "                       128 : \"#edcf72\", 256 : \"#edcc61\", 512:\"#edc850\",\n",
    "                       1024:\"#edc53f\",2048:\"#edc22e\"}\n",
    "\n",
    "cell_color_dict = {2:\"#776e65\", 4:\"#776e65\", 8 :\"#f9f6f2\",\n",
    "                       16 : \"##f9f6f2\", 32:\"##f9f6f2\", 64:\"##f9f6f2\",\n",
    "                       128 : \"#f9f6f2\", 256 : \"#f9f6f2\", 512:\"#f9f6f2\",\n",
    "                       1024:\"##f9f6f2\",2048:\"##f9f6f2\"}\n",
    "\n",
    "font = (\"Verdana\",40,\"bold\")\n",
    "\n",
    "KEY_UP = \"'w'\"\n",
    "KEY_DOWN = \"'s'\"\n",
    "KEY_LEFT = \"'a'\"\n",
    "KEY_RIGHT = \"'d'\"\n"
   ]
  }
 ],
 "metadata": {
  "kernelspec": {
   "display_name": "Python 3",
   "language": "python",
   "name": "python3"
  },
  "language_info": {
   "codemirror_mode": {
    "name": "ipython",
    "version": 3
   },
   "file_extension": ".py",
   "mimetype": "text/x-python",
   "name": "python",
   "nbconvert_exporter": "python",
   "pygments_lexer": "ipython3",
   "version": "3.8.5"
  }
 },
 "nbformat": 4,
 "nbformat_minor": 4
}
